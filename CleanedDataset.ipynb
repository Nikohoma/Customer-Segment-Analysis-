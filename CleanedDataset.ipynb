{
  "nbformat": 4,
  "nbformat_minor": 0,
  "metadata": {
    "colab": {
      "provenance": []
    },
    "kernelspec": {
      "name": "python3",
      "display_name": "Python 3"
    },
    "language_info": {
      "name": "python"
    }
  },
  "cells": [
    {
      "cell_type": "markdown",
      "source": [
        "Importing Necessary Libraries"
      ],
      "metadata": {
        "id": "D_RNql0OYaan"
      }
    },
    {
      "cell_type": "code",
      "execution_count": 1,
      "metadata": {
        "id": "9VCHP54WYBzw"
      },
      "outputs": [],
      "source": [
        "import pandas as pd\n",
        "import csv"
      ]
    },
    {
      "cell_type": "markdown",
      "source": [
        "Loading the csv"
      ],
      "metadata": {
        "id": "IcKyaFW1Ye1R"
      }
    },
    {
      "cell_type": "code",
      "source": [
        "file_path=\"Mall_Customers.csv\"\n",
        "data=pd.read_csv(file_path)"
      ],
      "metadata": {
        "id": "FOEaIi43YK7M"
      },
      "execution_count": 2,
      "outputs": []
    },
    {
      "cell_type": "markdown",
      "source": [
        "Getting the data information"
      ],
      "metadata": {
        "id": "Bu8k9N1ifytJ"
      }
    },
    {
      "cell_type": "code",
      "source": [
        "data.info()\n",
        "print(\"\")\n",
        "data.isnull().sum() #getting all the null values in each column\n"
      ],
      "metadata": {
        "colab": {
          "base_uri": "https://localhost:8080/"
        },
        "id": "sESip5T5YhxN",
        "outputId": "9383e1e0-4bb1-4f90-a755-61429686fc92"
      },
      "execution_count": 3,
      "outputs": [
        {
          "output_type": "stream",
          "name": "stdout",
          "text": [
            "<class 'pandas.core.frame.DataFrame'>\n",
            "RangeIndex: 200 entries, 0 to 199\n",
            "Data columns (total 5 columns):\n",
            " #   Column                  Non-Null Count  Dtype  \n",
            "---  ------                  --------------  -----  \n",
            " 0   CustomerID              200 non-null    int64  \n",
            " 1   Genre                   197 non-null    object \n",
            " 2   Age                     190 non-null    float64\n",
            " 3   Annual Income (k$)      190 non-null    float64\n",
            " 4   Spending Score (1-100)  196 non-null    float64\n",
            "dtypes: float64(3), int64(1), object(1)\n",
            "memory usage: 7.9+ KB\n",
            "\n"
          ]
        },
        {
          "output_type": "execute_result",
          "data": {
            "text/plain": [
              "CustomerID                 0\n",
              "Genre                      3\n",
              "Age                       10\n",
              "Annual Income (k$)        10\n",
              "Spending Score (1-100)     4\n",
              "dtype: int64"
            ]
          },
          "metadata": {},
          "execution_count": 3
        }
      ]
    },
    {
      "cell_type": "markdown",
      "source": [
        "Making a branch of main data."
      ],
      "metadata": {
        "id": "ZSZO7Kdlf98e"
      }
    },
    {
      "cell_type": "code",
      "source": [
        "data_copy=data"
      ],
      "metadata": {
        "id": "0g8XoTH0YtYO"
      },
      "execution_count": 4,
      "outputs": []
    },
    {
      "cell_type": "markdown",
      "source": [
        "Renaming the data columns for better readability"
      ],
      "metadata": {
        "id": "CuoiEtzzgB5G"
      }
    },
    {
      "cell_type": "code",
      "source": [
        "data_copy=data_copy.rename(columns={'Genre':'Gender','Annual Income (k$)' : 'Annual Income','Spending Score (1-100)' : 'Spending Score'})\n",
        "data_copy.info()"
      ],
      "metadata": {
        "colab": {
          "base_uri": "https://localhost:8080/"
        },
        "id": "ZBXch02fY0oS",
        "outputId": "52c6da96-7f49-4127-9ffa-4337d7aa3f7f"
      },
      "execution_count": 5,
      "outputs": [
        {
          "output_type": "stream",
          "name": "stdout",
          "text": [
            "<class 'pandas.core.frame.DataFrame'>\n",
            "RangeIndex: 200 entries, 0 to 199\n",
            "Data columns (total 5 columns):\n",
            " #   Column          Non-Null Count  Dtype  \n",
            "---  ------          --------------  -----  \n",
            " 0   CustomerID      200 non-null    int64  \n",
            " 1   Gender          197 non-null    object \n",
            " 2   Age             190 non-null    float64\n",
            " 3   Annual Income   190 non-null    float64\n",
            " 4   Spending Score  196 non-null    float64\n",
            "dtypes: float64(3), int64(1), object(1)\n",
            "memory usage: 7.9+ KB\n"
          ]
        }
      ]
    },
    {
      "cell_type": "markdown",
      "source": [
        "**Checking Outliers using Box Plot**"
      ],
      "metadata": {
        "id": "iQdrjBiFoIGQ"
      }
    },
    {
      "cell_type": "code",
      "source": [
        "import matplotlib.pyplot as plt\n",
        "\n",
        "plt.figure(figsize=(10,5))\n",
        "plt.subplot(1,3,1)\n",
        "plt.boxplot(data_copy['Age'])\n",
        "plt.title('Boxplot of Age')\n",
        "\n",
        "plt.subplot(1,3,2)\n",
        "plt.boxplot(data_copy['Annual Income'])\n",
        "plt.title('Boxplot of Annual Income')\n",
        "\n",
        "plt.subplot(1,3,3)\n",
        "plt.boxplot(data_copy['Spending Score'])\n",
        "plt.title('Boxplot of Spending Score')\n",
        "\n",
        "plt.show()"
      ],
      "metadata": {
        "colab": {
          "base_uri": "https://localhost:8080/",
          "height": 468
        },
        "id": "X453V-SRmTcX",
        "outputId": "a5baa5df-0b67-4919-f7d8-73d163ae9ae0"
      },
      "execution_count": 7,
      "outputs": [
        {
          "output_type": "display_data",
          "data": {
            "text/plain": [
              "<Figure size 1000x500 with 3 Axes>"
            ],
            "image/png": "[encoded data removed]"
          },
          "metadata": {}
        }
      ]
    },
    {
      "cell_type": "markdown",
      "source": [
        "Seems to be an outlier in Annual Income column."
      ],
      "metadata": {
        "id": "JfwWyHKkoObk"
      }
    },
    {
      "cell_type": "markdown",
      "source": [
        "Getting the mean of the Age column and assigning the mean to the empty cell of the same column."
      ],
      "metadata": {
        "id": "kjizqkNEgOif"
      }
    },
    {
      "cell_type": "code",
      "source": [
        "mean_age=data_copy['Age'].mean()  #38.89473684210526\n",
        "\n",
        "data_copy['Age']=data_copy['Age'].fillna(mean_age)   #Filling the empty cells with the mean\n",
        "data_copy['Age']=data_copy['Age'].astype(int)   #Converting all the values of the column into integer format\n",
        "\n",
        "data_copy['Age'].isna().sum()  #Checking if there are any null values remaining"
      ],
      "metadata": {
        "colab": {
          "base_uri": "https://localhost:8080/"
        },
        "id": "9sAGkVvyZvlE",
        "outputId": "4831c692-89f6-41c6-b965-edfffd48c8c9"
      },
      "execution_count": 8,
      "outputs": [
        {
          "output_type": "execute_result",
          "data": {
            "text/plain": [
              "0"
            ]
          },
          "metadata": {},
          "execution_count": 8
        }
      ]
    },
    {
      "cell_type": "markdown",
      "source": [
        "Getting the median of the Annual Income column and assigning the median to the empty cell of the same column.\n",
        "\n",
        "Since  the column contains outliers, it would be better to use median instead of mean."
      ],
      "metadata": {
        "id": "gdCJ5QAXgnM4"
      }
    },
    {
      "cell_type": "code",
      "source": [
        "median_AnnualIncome=data_copy['Annual Income'].median()\n",
        "data_copy['Annual Income'].fillna(median_AnnualIncome,inplace=True) #Filling the empty cells with the mean\n",
        "data_copy['Annual Income']=data_copy['Annual Income'].astype(int) #Formatting the values of the data into integer format\n",
        "\n",
        "data_copy['Annual Income'].isna().sum() #Checking if there are null values remaning"
      ],
      "metadata": {
        "colab": {
          "base_uri": "https://localhost:8080/"
        },
        "id": "F0RUSh5Mc11f",
        "outputId": "9e59b32c-730c-472b-c820-96d388edf4c1"
      },
      "execution_count": 9,
      "outputs": [
        {
          "output_type": "execute_result",
          "data": {
            "text/plain": [
              "0"
            ]
          },
          "metadata": {},
          "execution_count": 9
        }
      ]
    },
    {
      "cell_type": "markdown",
      "source": [
        "Getting the mean of the Spending Score column and assigning the mean to the empty cell of the same column."
      ],
      "metadata": {
        "id": "z1KHTH9Ig3_Q"
      }
    },
    {
      "cell_type": "code",
      "source": [
        "mean_spending_score=data_copy['Spending Score'].mean() #50.28\n",
        "\n",
        "data_copy['Spending Score']=data_copy['Spending Score'].fillna(mean_spending_score) #Filling the empty cells with the mean\n",
        "data_copy['Spending Score']=data_copy['Spending Score'].astype(int) #Formatting all the values of the column into integer format\n",
        "\n",
        "data_copy['Spending Score'].isna().sum()  #Checking if there are any null values remaining"
      ],
      "metadata": {
        "colab": {
          "base_uri": "https://localhost:8080/"
        },
        "id": "XFdM5SekacBl",
        "outputId": "ee0b475f-45a2-4d51-c7db-ea9b585db2ba"
      },
      "execution_count": 10,
      "outputs": [
        {
          "output_type": "execute_result",
          "data": {
            "text/plain": [
              "0"
            ]
          },
          "metadata": {},
          "execution_count": 10
        }
      ]
    },
    {
      "cell_type": "markdown",
      "source": [
        "Getting the mode of the Gender column since it is a categorical data and assigning the mode to the empty cell of the same column."
      ],
      "metadata": {
        "id": "iGi3W1u3hCkH"
      }
    },
    {
      "cell_type": "code",
      "source": [
        "mode_gender=data_copy['Gender'].mode()[0] #Female\n",
        "\n",
        "data_copy['Gender'].fillna(mode_gender,inplace=True) #Filling the empty cells with the mode\n",
        "data_copy.isna().sum() #Checking if there are any null values remaining"
      ],
      "metadata": {
        "colab": {
          "base_uri": "https://localhost:8080/"
        },
        "id": "9D8JVvSvajfr",
        "outputId": "97d36067-8aac-46cc-a0a3-9a8060f96b02"
      },
      "execution_count": 11,
      "outputs": [
        {
          "output_type": "execute_result",
          "data": {
            "text/plain": [
              "CustomerID        0\n",
              "Gender            0\n",
              "Age               0\n",
              "Annual Income     0\n",
              "Spending Score    0\n",
              "dtype: int64"
            ]
          },
          "metadata": {},
          "execution_count": 11
        }
      ]
    },
    {
      "cell_type": "markdown",
      "source": [
        "# Handling Outliers\n",
        "\n",
        "**Getting Outliers from the dataset**"
      ],
      "metadata": {
        "id": "N33kyeS6oWoi"
      }
    },
    {
      "cell_type": "code",
      "source": [
        "#Calculating IQR\n",
        "Q1=data_copy[['Age','Annual Income','Spending Score']].quantile(0.25)\n",
        "Q3=data_copy[['Age','Annual Income','Spending Score']].quantile(0.75)\n",
        "IQR=Q3-Q1\n",
        "\n",
        "data_copy_no_outliers_iqr = data_copy[~((data_copy[['Age', 'Annual Income','Spending Score']] < (Q1 - 1.5 * IQR)) | (data_copy[['Age', 'Annual Income','Spending Score']] > (Q3 + 1.5 * IQR))).any(axis=1)]\n",
        "print(\"Data without ooutliers: \")\n",
        "print(data_copy_no_outliers_iqr)\n",
        "\n",
        "\n",
        "print(\"Outliers identified using IQR method: \")\n",
        "print(data_copy[((data_copy[['Age','Annual Income','Spending Score']] < (Q1-1.5*IQR)) | (data_copy[['Age','Annual Income','Spending Score']] > (Q3+1.5*IQR))).any(axis=1)])"
      ],
      "metadata": {
        "colab": {
          "base_uri": "https://localhost:8080/"
        },
        "id": "DYV5OH57m2yt",
        "outputId": "4475cf28-0276-4f07-9795-2b4934373ada"
      },
      "execution_count": 13,
      "outputs": [
        {
          "output_type": "stream",
          "name": "stdout",
          "text": [
            "Data without ooutliers: \n",
            "     CustomerID  Gender  Age  Annual Income  Spending Score\n",
            "0             1    Male   19             15              39\n",
            "1             2    Male   21             15              81\n",
            "2             3  Female   20             16               6\n",
            "3             4  Female   23             16              77\n",
            "4             5  Female   31             17              40\n",
            "..          ...     ...  ...            ...             ...\n",
            "193         194  Female   38            113              91\n",
            "194         195  Female   47            120              16\n",
            "195         196  Female   35            120              79\n",
            "196         197  Female   45            126              28\n",
            "197         198    Male   32            126              74\n",
            "\n",
            "[198 rows x 5 columns]\n",
            "Outliers identified using IQR method: \n",
            "     CustomerID Gender  Age  Annual Income  Spending Score\n",
            "198         199   Male   32            137              18\n",
            "199         200   Male   30            137              83\n"
          ]
        }
      ]
    },
    {
      "cell_type": "markdown",
      "source": [
        "Handling Outlier :\n",
        "Since the number of outliers are less(0.1 %), we can remove them."
      ],
      "metadata": {
        "id": "7uD0G_tZobOK"
      }
    },
    {
      "cell_type": "code",
      "source": [
        "data_copy=data_copy_no_outliers_iqr\n",
        "data_copy.info()"
      ],
      "metadata": {
        "colab": {
          "base_uri": "https://localhost:8080/"
        },
        "id": "LoNOY8AeoFxX",
        "outputId": "0902460c-ef87-4243-8cd0-dc67a3c7e8ec"
      },
      "execution_count": 14,
      "outputs": [
        {
          "output_type": "stream",
          "name": "stdout",
          "text": [
            "<class 'pandas.core.frame.DataFrame'>\n",
            "Index: 198 entries, 0 to 197\n",
            "Data columns (total 5 columns):\n",
            " #   Column          Non-Null Count  Dtype \n",
            "---  ------          --------------  ----- \n",
            " 0   CustomerID      198 non-null    int64 \n",
            " 1   Gender          198 non-null    object\n",
            " 2   Age             198 non-null    int64 \n",
            " 3   Annual Income   198 non-null    int64 \n",
            " 4   Spending Score  198 non-null    int64 \n",
            "dtypes: int64(4), object(1)\n",
            "memory usage: 9.3+ KB\n"
          ]
        }
      ]
    },
    {
      "cell_type": "code",
      "source": [
        "data_copy.head(10)"
      ],
      "metadata": {
        "colab": {
          "base_uri": "https://localhost:8080/",
          "height": 363
        },
        "id": "O4X8npxxyOat",
        "outputId": "0921d3e1-2881-41db-bc75-4c31a4a6e84e"
      },
      "execution_count": 17,
      "outputs": [
        {
          "output_type": "execute_result",
          "data": {
            "text/plain": [
              "   CustomerID  Gender  Age  Annual Income  Spending Score\n",
              "0           1    Male   19             15              39\n",
              "1           2    Male   21             15              81\n",
              "2           3  Female   20             16               6\n",
              "3           4  Female   23             16              77\n",
              "4           5  Female   31             17              40\n",
              "5           6  Female   22             17              76\n",
              "6           7  Female   35             18               6\n",
              "7           8  Female   23             18              94\n",
              "8           9    Male   64             19               3\n",
              "9          10  Female   30             19              72"
            ],
            "text/html": [
              "\n",
              "  <div id=\"df-be7540cd-d6ba-4581-805d-44668c2b0248\" class=\"colab-df-container\">\n",
              "    <div>\n",
              "<style scoped>\n",
              "    .dataframe tbody tr th:only-of-type {\n",
              "        vertical-align: middle;\n",
              "    }\n",
              "\n",
              "    .dataframe tbody tr th {\n",
              "        vertical-align: top;\n",
              "    }\n",
              "\n",
              "    .dataframe thead th {\n",
              "        text-align: right;\n",
              "    }\n",
              "</style>\n",
              "<table border=\"1\" class=\"dataframe\">\n",
              "  <thead>\n",
              "    <tr style=\"text-align: right;\">\n",
              "      <th></th>\n",
              "      <th>CustomerID</th>\n",
              "      <th>Gender</th>\n",
              "      <th>Age</th>\n",
              "      <th>Annual Income</th>\n",
              "      <th>Spending Score</th>\n",
              "    </tr>\n",
              "  </thead>\n",
              "  <tbody>\n",
              "    <tr>\n",
              "      <th>0</th>\n",
              "      <td>1</td>\n",
              "      <td>Male</td>\n",
              "      <td>19</td>\n",
              "      <td>15</td>\n",
              "      <td>39</td>\n",
              "    </tr>\n",
              "    <tr>\n",
              "      <th>1</th>\n",
              "      <td>2</td>\n",
              "      <td>Male</td>\n",
              "      <td>21</td>\n",
              "      <td>15</td>\n",
              "      <td>81</td>\n",
              "    </tr>\n",
              "    <tr>\n",
              "      <th>2</th>\n",
              "      <td>3</td>\n",
              "      <td>Female</td>\n",
              "      <td>20</td>\n",
              "      <td>16</td>\n",
              "      <td>6</td>\n",
              "    </tr>\n",
              "    <tr>\n",
              "      <th>3</th>\n",
              "      <td>4</td>\n",
              "      <td>Female</td>\n",
              "      <td>23</td>\n",
              "      <td>16</td>\n",
              "      <td>77</td>\n",
              "    </tr>\n",
              "    <tr>\n",
              "      <th>4</th>\n",
              "      <td>5</td>\n",
              "      <td>Female</td>\n",
              "      <td>31</td>\n",
              "      <td>17</td>\n",
              "      <td>40</td>\n",
              "    </tr>\n",
              "    <tr>\n",
              "      <th>5</th>\n",
              "      <td>6</td>\n",
              "      <td>Female</td>\n",
              "      <td>22</td>\n",
              "      <td>17</td>\n",
              "      <td>76</td>\n",
              "    </tr>\n",
              "    <tr>\n",
              "      <th>6</th>\n",
              "      <td>7</td>\n",
              "      <td>Female</td>\n",
              "      <td>35</td>\n",
              "      <td>18</td>\n",
              "      <td>6</td>\n",
              "    </tr>\n",
              "    <tr>\n",
              "      <th>7</th>\n",
              "      <td>8</td>\n",
              "      <td>Female</td>\n",
              "      <td>23</td>\n",
              "      <td>18</td>\n",
              "      <td>94</td>\n",
              "    </tr>\n",
              "    <tr>\n",
              "      <th>8</th>\n",
              "      <td>9</td>\n",
              "      <td>Male</td>\n",
              "      <td>64</td>\n",
              "      <td>19</td>\n",
              "      <td>3</td>\n",
              "    </tr>\n",
              "    <tr>\n",
              "      <th>9</th>\n",
              "      <td>10</td>\n",
              "      <td>Female</td>\n",
              "      <td>30</td>\n",
              "      <td>19</td>\n",
              "      <td>72</td>\n",
              "    </tr>\n",
              "  </tbody>\n",
              "</table>\n",
              "</div>\n",
              "    <div class=\"colab-df-buttons\">\n",
              "\n",
              "  <div class=\"colab-df-container\">\n",
              "    <button class=\"colab-df-convert\" onclick=\"convertToInteractive('df-be7540cd-d6ba-4581-805d-44668c2b0248')\"\n",
              "            title=\"Convert this dataframe to an interactive table.\"\n",
              "            style=\"display:none;\">\n",
              "\n",
              "  <svg xmlns=\"http://www.w3.org/2000/svg\" height=\"24px\" viewBox=\"0 -960 960 960\">\n",
              "    <path d=\"M120-120v-720h720v720H120Zm60-500h600v-160H180v160Zm220 220h160v-160H400v160Zm0 220h160v-160H400v160ZM180-400h160v-160H180v160Zm440 0h160v-160H620v160ZM180-180h160v-160H180v160Zm440 0h160v-160H620v160Z\"/>\n",
              "  </svg>\n",
              "    </button>\n",
              "\n",
              "  <style>\n",
              "    .colab-df-container {\n",
              "      display:flex;\n",
              "      gap: 12px;\n",
              "    }\n",
              "\n",
              "    .colab-df-convert {\n",
              "      background-color: #E8F0FE;\n",
              "      border: none;\n",
              "      border-radius: 50%;\n",
              "      cursor: pointer;\n",
              "      display: none;\n",
              "      fill: #1967D2;\n",
              "      height: 32px;\n",
              "      padding: 0 0 0 0;\n",
              "      width: 32px;\n",
              "    }\n",
              "\n",
              "    .colab-df-convert:hover {\n",
              "      background-color: #E2EBFA;\n",
              "      box-shadow: 0px 1px 2px rgba(60, 64, 67, 0.3), 0px 1px 3px 1px rgba(60, 64, 67, 0.15);\n",
              "      fill: #174EA6;\n",
              "    }\n",
              "\n",
              "    .colab-df-buttons div {\n",
              "      margin-bottom: 4px;\n",
              "    }\n",
              "\n",
              "    [theme=dark] .colab-df-convert {\n",
              "      background-color: #3B4455;\n",
              "      fill: #D2E3FC;\n",
              "    }\n",
              "\n",
              "    [theme=dark] .colab-df-convert:hover {\n",
              "      background-color: #434B5C;\n",
              "      box-shadow: 0px 1px 3px 1px rgba(0, 0, 0, 0.15);\n",
              "      filter: drop-shadow(0px 1px 2px rgba(0, 0, 0, 0.3));\n",
              "      fill: #FFFFFF;\n",
              "    }\n",
              "  </style>\n",
              "\n",
              "    <script>\n",
              "      const buttonEl =\n",
              "        document.querySelector('#df-be7540cd-d6ba-4581-805d-44668c2b0248 button.colab-df-convert');\n",
              "      buttonEl.style.display =\n",
              "        google.colab.kernel.accessAllowed ? 'block' : 'none';\n",
              "\n",
              "      async function convertToInteractive(key) {\n",
              "        const element = document.querySelector('#df-be7540cd-d6ba-4581-805d-44668c2b0248');\n",
              "        const dataTable =\n",
              "          await google.colab.kernel.invokeFunction('convertToInteractive',\n",
              "                                                    [key], {});\n",
              "        if (!dataTable) return;\n",
              "\n",
              "        const docLinkHtml = 'Like what you see? Visit the ' +\n",
              "          '<a target=\"_blank\" href=https://colab.research.google.com/notebooks/data_table.ipynb>data table notebook</a>'\n",
              "          + ' to learn more about interactive tables.';\n",
              "        element.innerHTML = '';\n",
              "        dataTable['output_type'] = 'display_data';\n",
              "        await google.colab.output.renderOutput(dataTable, element);\n",
              "        const docLink = document.createElement('div');\n",
              "        docLink.innerHTML = docLinkHtml;\n",
              "        element.appendChild(docLink);\n",
              "      }\n",
              "    </script>\n",
              "  </div>\n",
              "\n",
              "\n",
              "<div id=\"df-cde6b5f0-c8ad-4f26-9ab9-907016514251\">\n",
              "  <button class=\"colab-df-quickchart\" onclick=\"quickchart('df-cde6b5f0-c8ad-4f26-9ab9-907016514251')\"\n",
              "            title=\"Suggest charts\"\n",
              "            style=\"display:none;\">\n",
              "\n",
              "<svg xmlns=\"http://www.w3.org/2000/svg\" height=\"24px\"viewBox=\"0 0 24 24\"\n",
              "     width=\"24px\">\n",
              "    <g>\n",
              "        <path d=\"M19 3H5c-1.1 0-2 .9-2 2v14c0 1.1.9 2 2 2h14c1.1 0 2-.9 2-2V5c0-1.1-.9-2-2-2zM9 17H7v-7h2v7zm4 0h-2V7h2v10zm4 0h-2v-4h2v4z\"/>\n",
              "    </g>\n",
              "</svg>\n",
              "  </button>\n",
              "\n",
              "<style>\n",
              "  .colab-df-quickchart {\n",
              "      --bg-color: #E8F0FE;\n",
              "      --fill-color: #1967D2;\n",
              "      --hover-bg-color: #E2EBFA;\n",
              "      --hover-fill-color: #174EA6;\n",
              "      --disabled-fill-color: #AAA;\n",
              "      --disabled-bg-color: #DDD;\n",
              "  }\n",
              "\n",
              "  [theme=dark] .colab-df-quickchart {\n",
              "      --bg-color: #3B4455;\n",
              "      --fill-color: #D2E3FC;\n",
              "      --hover-bg-color: #434B5C;\n",
              "      --hover-fill-color: #FFFFFF;\n",
              "      --disabled-bg-color: #3B4455;\n",
              "      --disabled-fill-color: #666;\n",
              "  }\n",
              "\n",
              "  .colab-df-quickchart {\n",
              "    background-color: var(--bg-color);\n",
              "    border: none;\n",
              "    border-radius: 50%;\n",
              "    cursor: pointer;\n",
              "    display: none;\n",
              "    fill: var(--fill-color);\n",
              "    height: 32px;\n",
              "    padding: 0;\n",
              "    width: 32px;\n",
              "  }\n",
              "\n",
              "  .colab-df-quickchart:hover {\n",
              "    background-color: var(--hover-bg-color);\n",
              "    box-shadow: 0 1px 2px rgba(60, 64, 67, 0.3), 0 1px 3px 1px rgba(60, 64, 67, 0.15);\n",
              "    fill: var(--button-hover-fill-color);\n",
              "  }\n",
              "\n",
              "  .colab-df-quickchart-complete:disabled,\n",
              "  .colab-df-quickchart-complete:disabled:hover {\n",
              "    background-color: var(--disabled-bg-color);\n",
              "    fill: var(--disabled-fill-color);\n",
              "    box-shadow: none;\n",
              "  }\n",
              "\n",
              "  .colab-df-spinner {\n",
              "    border: 2px solid var(--fill-color);\n",
              "    border-color: transparent;\n",
              "    border-bottom-color: var(--fill-color);\n",
              "    animation:\n",
              "      spin 1s steps(1) infinite;\n",
              "  }\n",
              "\n",
              "  @keyframes spin {\n",
              "    0% {\n",
              "      border-color: transparent;\n",
              "      border-bottom-color: var(--fill-color);\n",
              "      border-left-color: var(--fill-color);\n",
              "    }\n",
              "    20% {\n",
              "      border-color: transparent;\n",
              "      border-left-color: var(--fill-color);\n",
              "      border-top-color: var(--fill-color);\n",
              "    }\n",
              "    30% {\n",
              "      border-color: transparent;\n",
              "      border-left-color: var(--fill-color);\n",
              "      border-top-color: var(--fill-color);\n",
              "      border-right-color: var(--fill-color);\n",
              "    }\n",
              "    40% {\n",
              "      border-color: transparent;\n",
              "      border-right-color: var(--fill-color);\n",
              "      border-top-color: var(--fill-color);\n",
              "    }\n",
              "    60% {\n",
              "      border-color: transparent;\n",
              "      border-right-color: var(--fill-color);\n",
              "    }\n",
              "    80% {\n",
              "      border-color: transparent;\n",
              "      border-right-color: var(--fill-color);\n",
              "      border-bottom-color: var(--fill-color);\n",
              "    }\n",
              "    90% {\n",
              "      border-color: transparent;\n",
              "      border-bottom-color: var(--fill-color);\n",
              "    }\n",
              "  }\n",
              "</style>\n",
              "\n",
              "  <script>\n",
              "    async function quickchart(key) {\n",
              "      const quickchartButtonEl =\n",
              "        document.querySelector('#' + key + ' button');\n",
              "      quickchartButtonEl.disabled = true;  // To prevent multiple clicks.\n",
              "      quickchartButtonEl.classList.add('colab-df-spinner');\n",
              "      try {\n",
              "        const charts = await google.colab.kernel.invokeFunction(\n",
              "            'suggestCharts', [key], {});\n",
              "      } catch (error) {\n",
              "        console.error('Error during call to suggestCharts:', error);\n",
              "      }\n",
              "      quickchartButtonEl.classList.remove('colab-df-spinner');\n",
              "      quickchartButtonEl.classList.add('colab-df-quickchart-complete');\n",
              "    }\n",
              "    (() => {\n",
              "      let quickchartButtonEl =\n",
              "        document.querySelector('#df-cde6b5f0-c8ad-4f26-9ab9-907016514251 button');\n",
              "      quickchartButtonEl.style.display =\n",
              "        google.colab.kernel.accessAllowed ? 'block' : 'none';\n",
              "    })();\n",
              "  </script>\n",
              "</div>\n",
              "\n",
              "    </div>\n",
              "  </div>\n"
            ],
            "application/vnd.google.colaboratory.intrinsic+json": {
              "type": "dataframe",
              "variable_name": "data_copy",
              "summary": "{\n  \"name\": \"data_copy\",\n  \"rows\": 198,\n  \"fields\": [\n    {\n      \"column\": \"CustomerID\",\n      \"properties\": {\n        \"dtype\": \"number\",\n        \"std\": 57,\n        \"min\": 1,\n        \"max\": 198,\n        \"num_unique_values\": 198,\n        \"samples\": [\n          66,\n          115,\n          17\n        ],\n        \"semantic_type\": \"\",\n        \"description\": \"\"\n      }\n    },\n    {\n      \"column\": \"Gender\",\n      \"properties\": {\n        \"dtype\": \"category\",\n        \"num_unique_values\": 2,\n        \"samples\": [\n          \"Female\",\n          \"Male\"\n        ],\n        \"semantic_type\": \"\",\n        \"description\": \"\"\n      }\n    },\n    {\n      \"column\": \"Age\",\n      \"properties\": {\n        \"dtype\": \"number\",\n        \"std\": 13,\n        \"min\": 18,\n        \"max\": 70,\n        \"num_unique_values\": 51,\n        \"samples\": [\n          55,\n          26\n        ],\n        \"semantic_type\": \"\",\n        \"description\": \"\"\n      }\n    },\n    {\n      \"column\": \"Annual Income\",\n      \"properties\": {\n        \"dtype\": \"number\",\n        \"std\": 25,\n        \"min\": 15,\n        \"max\": 126,\n        \"num_unique_values\": 63,\n        \"samples\": [\n          120,\n          99\n        ],\n        \"semantic_type\": \"\",\n        \"description\": \"\"\n      }\n    },\n    {\n      \"column\": \"Spending Score\",\n      \"properties\": {\n        \"dtype\": \"number\",\n        \"std\": 25,\n        \"min\": 1,\n        \"max\": 99,\n        \"num_unique_values\": 83,\n        \"samples\": [\n          65,\n          39\n        ],\n        \"semantic_type\": \"\",\n        \"description\": \"\"\n      }\n    }\n  ]\n}"
            }
          },
          "metadata": {},
          "execution_count": 17
        }
      ]
    },
    {
      "cell_type": "code",
      "source": [
        "data_copy.to_csv('Mall_Customers_cleaned.csv',index=False) #Saving the cleaned data to a new csv file"
      ],
      "metadata": {
        "id": "RBjFqkEYaugy"
      },
      "execution_count": 15,
      "outputs": []
    }
  ]
}